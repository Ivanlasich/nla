{
 "cells": [
  {
   "cell_type": "markdown",
   "metadata": {
    "id": "TDH41_eFpVgj"
   },
   "source": [
    "# Домашнее задание 2 (20 + 15 + 25 = 60 pts )"
   ]
  },
  {
   "cell_type": "markdown",
   "metadata": {
    "id": "pwMt2FiLpVgk"
   },
   "source": [
    "## Задача 1 (20 pts)\n",
    "\n",
    "- (5 pts) Докажите, что $\\mathrm{vec}(AXB) = (B^\\top \\otimes A)\\, \\mathrm{vec}(X)$, если $\\mathrm{vec}(X)$ векторизация матрицы по столбцам. Что и почему изменится, если использовать векторизацию по строкам? \n",
    "\n",
    "- (2 pts) Какова сложность наивного вычислени $(A \\otimes B) x$ и почему она такова? Покажите, как она может быть снижена.\n",
    "\n",
    "- (3 pts) Пусть матрицы $A$ и $B$ имеют спектральные разложения $A = S_A\\Lambda_A S_A^{-1}$ и $B = S_B\\Lambda_B S^{-1}_B$. Найдите собственные векторы и собственные значения у матрицы $A\\otimes I + I \\otimes B$.\n",
    "\n",
    "- (10 pts) Пусть $A = \\mathrm{diag}\\left(\\frac{1}{1000},\\frac{2}{1000},\\dots \\frac{999}{1000}, 1, 1000 \\right)$. Оцените аналитически число итераций необходимых для решения линейной системы с матрицей $A$ с относительной точностью $10^{-4}$ используя\n",
    "    - метод Ричардсона с оптимальным параметром (используйте евклидову норму)\n",
    "    - метод Чебышёва (используйте евклидову норму)\n",
    "    - метод сопряжённых градиентов (используйте $A$-норму).\n",
    "    \n",
    "и сравните вашу оценку с экспериментальными результатами."
   ]
  },
  {
   "cell_type": "markdown",
   "metadata": {
    "id": "DArHNjcAIKDx"
   },
   "source": [
    "1) Пусть матрица $B = [b_1, b_2 ... b_n]$ размером $m*n$, $X = [x_1, x_2 ... x_n]$. Тогда $k$-ая колонка $AXB$: $(AXB)_{:,k}=AXb_k=A\\sum_{i=1}^m x_{i}b_{i, k}$ = [$b_{1,k}A$, $b_{2,k}A$...$b_{m,k}A$] [$(x_1, x_2, ... x_m)^T$] = ($ [b_{1,k}, b_{2,k} ... b_{m,k}]\\otimes A$)$vec(X)$\n",
    "\n",
    "Теперь рассмотрим выражение: $vec(AXB)=$$ \n",
    "      \\begin{bmatrix} \n",
    "        (AXB)_{:,1} \\\\ \n",
    "        (AXB)_{:,2} \\\\\n",
    "        ... \\\\\n",
    "        (AXB)_{:,n}\\\\ \n",
    "      \\end{bmatrix} vec(X)=(B^T\\otimes A)vec(X)$ ч.т.д.\n",
    "\n",
    "Если использовать векторизацию по строкам, то при аналогичном рассмотрении мы получим: $\\mathrm{vec}(AXB) = (A \\otimes B^T)\\, \\mathrm{vec}(X)$"
   ]
  },
  {
   "cell_type": "markdown",
   "metadata": {
    "id": "CjWkawu7UKFP"
   },
   "source": [
    "2)Если $A$ — матрица размера $m*n$, $B$ — матрица размера $p*q$, тогда произведение Кронекера есть блочная матрица размера $mp*nq$. Произведение $a_{1,1}$ на $B$ требует $O(n^2)$ операций, таких операций нужно сделать $O(n^2)$ => суммарно: $\\approx O(n^4)$\n",
    "Воспользуемся формулой, которую мы доказали выше:\n",
    "$ (A \\otimes B) x = vec(B X A^T) $, где X - это вектор x, который мы преобразовали в матрицу. Чтобы преобразовать Vec(X) в X требуется $O(n)$ операций, для перемножения матриц - $O(n^3)$, таких перемножений у нас 2, $=>$ количество операций $ \\approx 2*O(n^3)$, что меньше чем $O(n^4)$.<br/>"
   ]
  },
  {
   "cell_type": "markdown",
   "metadata": {
    "id": "qF5HFFu0mXvv"
   },
   "source": [
    "3) Воспользуемся свойством произведения Кронекера: $A \\oplus B = A\\otimes I + I \\otimes B$, => исходя из того, что равенство равно прямой сумме  $A \\oplus B$, получаем, что собсвенные значения равны: = $(\\alpha_i+\\beta_j)$, где $\\alpha_i$ и $\\beta_j$ - это всевозможные собственные значения $A, B$ , а собственные вектора $A \\oplus B$ - это $a \\otimes b$, где a, b - собственные векторы, которые соответствуют собственным значениям $\\alpha_i$ и $\\beta_j$. \n",
    "\n",
    "Изходя из написанного выше получаем, что собственные значедия $A\\otimes I + I \\otimes B$ - всевозможные суммы каждого элемента диагонали $\\Lambda_A$ и $\\Lambda_B$, а собственные вектора - множество произведений Кронекера между всеми столбцами $S_A$ и $S_B$."
   ]
  },
  {
   "cell_type": "markdown",
   "metadata": {
    "id": "C3bPHTvXvp_U"
   },
   "source": [
    "4.1) Метод Ричардсона с оптимальным параметром:\n",
    "\n",
    "Пусть $x_*$ решение, введём вектор ошибки $e_k = x_{k} - x_*$, \n",
    "\n",
    "$$\\|e_{k+1}\\|_2 \\leq q \\|e_k\\|_2 , \\quad\\rightarrow \\quad \\|e_k\\|_2 \\leq q^{k} \\|e_0\\|_2,$$, пусть $x_0=\\vec{0}$\n",
    " \n",
    "\n",
    "где \n",
    "\n",
    "$$ q = \\frac{\\lambda_{\\max} - \\lambda_{\\min}}{\\lambda_{\\max} + \\lambda_{\\min}} ,  $$ следовательно рассчитаем $q = \\frac{999.999}{1000.001}$. \n",
    "\n",
    "Найдем такое k, что $q^k \\approx 10^{-4}$,=> к = 4605171\n",
    "\n"
   ]
  },
  {
   "cell_type": "code",
   "execution_count": 1,
   "metadata": {
    "colab": {
     "base_uri": "https://localhost:8080/"
    },
    "id": "AvYkCxi9OXI_",
    "outputId": "74f5402a-5d20-40c1-edc5-daf116c0d584"
   },
   "outputs": [
    {
     "name": "stdout",
     "output_type": "stream",
     "text": [
      "4605170.1860125\n"
     ]
    }
   ],
   "source": [
    "import numpy as np\n",
    "q = 999.999 / 1000.001\n",
    "k = np.log(10**(-4)) / np.log(q)\n",
    "print(k)"
   ]
  },
  {
   "cell_type": "markdown",
   "metadata": {
    "id": "d1YdfNCcc4GE"
   },
   "source": [
    "Эксперементально:"
   ]
  },
  {
   "cell_type": "code",
   "execution_count": 2,
   "metadata": {
    "id": "YpmgeQtcbL5m"
   },
   "outputs": [],
   "source": [
    "import numpy as np\n",
    "import matplotlib.pyplot as plt\n",
    "import scipy as sp\n",
    "import scipy.sparse\n",
    "import scipy.sparse.linalg as spla\n",
    "import scipy\n",
    "from scipy.sparse import csc_matrix\n",
    "\n",
    "res_richardson = []\n",
    "A = np.arange(1, 1000, 1)/1000\n",
    "A = np.append(A, 1)\n",
    "A = np.append(A, 1000)\n",
    "n = len(A)\n",
    "A = sp.sparse.spdiags(A, [0], n, n, 'csr'); \n",
    "ev1, vec = spla.eigsh(A, k=2, which='LA')\n",
    "ev2, vec = spla.eigsh(A, k=2, which='SA')\n",
    "lam_max = ev1[0]\n",
    "lam_min = ev2[0]\n",
    "rhs = np.ones(n)\n",
    "tau_opt = 2.0/(lam_max + lam_min)\n",
    "x = np.full(n, 1/1000)\n",
    "k = 0\n",
    "rr=10\n",
    "niters = 10\n",
    "while (np.linalg.norm(rr)>=1e-4):\n",
    "    rr = A.dot(x) - rhs\n",
    "    x = x - tau_opt * rr\n",
    "    res_richardson.append(np.linalg.norm(rr))\n",
    "    k+=1;"
   ]
  },
  {
   "cell_type": "code",
   "execution_count": 3,
   "metadata": {
    "colab": {
     "base_uri": "https://localhost:8080/"
    },
    "id": "_v7q41MtijqY",
    "outputId": "645eae34-1da9-4da0-db10-e9353632068a"
   },
   "outputs": [
    {
     "name": "stdout",
     "output_type": "stream",
     "text": [
      "количество итераций:  4780\n",
      "проверка : [0.99992951 1.         1.         ... 1.         0.99992958 1.        ]\n"
     ]
    }
   ],
   "source": [
    "print(\"количество итераций: \", k)\n",
    "print(\"проверка :\", A.dot(x))"
   ]
  },
  {
   "cell_type": "markdown",
   "metadata": {
    "id": "W50ooS_7qAgi"
   },
   "source": [
    "Эксперементально сходится намного быстрее.\n",
    "\n"
   ]
  },
  {
   "cell_type": "markdown",
   "metadata": {
    "id": "t92mGOvpnVP_"
   },
   "source": [
    "4.2) Метод Чебышёва:\n",
    "\n",
    "$e_{k+1} \\leq C q^k e_0$, $\\quad q = \\frac{\\sqrt{\\mathrm{cond}(A)}-1}{\\sqrt{\\mathrm{cond}(A)}+1}$, => $ q = \\frac{\\sqrt{\\frac{1000}{\\frac{1}{1000}}}-1}{\\sqrt{\\frac{1000}{\\frac{1}{1000}}}+1} = \\frac{999}{1001}$\n",
    "\n",
    "Аналогично найдем k: k = 4605"
   ]
  },
  {
   "cell_type": "code",
   "execution_count": 4,
   "metadata": {
    "colab": {
     "base_uri": "https://localhost:8080/"
    },
    "id": "DXREGT-nqfpa",
    "outputId": "54b5aedf-356a-4384-efdd-d9f5f1e63c75"
   },
   "outputs": [
    {
     "name": "stdout",
     "output_type": "stream",
     "text": [
      "4605.168650930853\n"
     ]
    }
   ],
   "source": [
    "q = 999 / 1001\n",
    "k = np.log(10**(-4)) / np.log(q)\n",
    "print(k)"
   ]
  },
  {
   "cell_type": "markdown",
   "metadata": {
    "id": "HfUZ6MtyrI0o"
   },
   "source": [
    "Эксперимент:"
   ]
  },
  {
   "cell_type": "code",
   "execution_count": 5,
   "metadata": {
    "colab": {
     "base_uri": "https://localhost:8080/"
    },
    "id": "v6N_2qnRrJH1",
    "outputId": "02c94373-b242-48ec-d242-78e787ca7a56"
   },
   "outputs": [
    {
     "name": "stderr",
     "output_type": "stream",
     "text": [
      "C:\\Users\\lasic\\Anaconda3\\envs\\coursera_ds\\lib\\site-packages\\ipykernel_launcher.py:12: RuntimeWarning: overflow encountered in multiply\n",
      "  if sys.path[0] == '':\n",
      "C:\\Users\\lasic\\Anaconda3\\envs\\coursera_ds\\lib\\site-packages\\ipykernel_launcher.py:12: RuntimeWarning: invalid value encountered in subtract\n",
      "  if sys.path[0] == '':\n"
     ]
    }
   ],
   "source": [
    "niters = 4605\n",
    "roots = [np.cos((np.pi * (2 * i + 1)) / (2 * niters)) for i in range(niters)]\n",
    "taus = [(lam_max + lam_min - (lam_min - lam_max) * r) / 2 for r in roots]\n",
    "x = np.full(n, 1/1000)\n",
    "r = A.dot(x) - rhs\n",
    "res_cheb = [np.linalg.norm(r)]\n",
    "\n",
    "\n",
    "good_perm = [i for i in range(1, niters+1)]\n",
    "i = 0\n",
    "while (np.linalg.norm(r)>=1e-4):\n",
    "    x = x - 1.0/taus[good_perm[i] - 1] * r\n",
    "    r = A.dot(x) - rhs\n",
    "    i+=1;"
   ]
  },
  {
   "cell_type": "code",
   "execution_count": 6,
   "metadata": {
    "colab": {
     "base_uri": "https://localhost:8080/"
    },
    "id": "7UcohmTRltQe",
    "outputId": "83bd0d03-9ed9-4015-fc11-8681f335b038"
   },
   "outputs": [
    {
     "name": "stdout",
     "output_type": "stream",
     "text": [
      "количество итераций:  3333\n",
      "проверка : [0.99820994 0.99999685 0.99999999 ... 1.         1.         1.        ]\n"
     ]
    }
   ],
   "source": [
    "print(\"количество итераций: \", i)\n",
    "print(\"проверка :\", A.dot(x))"
   ]
  },
  {
   "cell_type": "markdown",
   "metadata": {
    "id": "TQAOIRIJmLNC"
   },
   "source": [
    "Эксперементально сходится намного быстрее.\n",
    "\n",
    "\n"
   ]
  },
  {
   "cell_type": "markdown",
   "metadata": {
    "id": "bN2yf_Xmvu6i"
   },
   "source": [
    "4.3) Метод сопряженных градиентов:\n",
    " $\n",
    "    \\inf_{q, q(0)=1} \\max_{j} |q({\\lambda_j})| \\leq \\inf_{q, q(0)=1} \\max_{\\lambda\\in[\\lambda_\\min,\\lambda_\\max]} |q({\\lambda})|\n",
    "$, => используя результат, используемый в методе Чебышёва, получим такую же скорость сходимости:\n",
    "\n",
    "$$\\frac{\\Vert x_k - x_* \\Vert_A }{\\Vert x_* \\Vert_A} \\leq \\gamma \\left( \\frac{\\sqrt{\\mathrm{cond}(A)}-1}{\\sqrt{\\mathrm{cond}(A)}+1}\\right)^k.$$\n",
    "    Данный метод сойдется за такое же число итераций равных 4606."
   ]
  },
  {
   "cell_type": "markdown",
   "metadata": {
    "id": "jFa0ggAAoXiw"
   },
   "source": [
    "Эксперемнтально:"
   ]
  },
  {
   "cell_type": "code",
   "execution_count": 7,
   "metadata": {
    "id": "394hW6rE3BRW"
   },
   "outputs": [],
   "source": [
    "x = np.ones(n)\n",
    "x0 = x\n",
    "g0 = A.dot(x) - rhs\n",
    "d0 = -g0\n",
    "k = 0\n",
    "while (np.linalg.norm(g0)>=1e-4):\n",
    "    x1 = x0 + (g0.dot(g0)/(d0.dot(A.dot(d0))))*d0\n",
    "    g1 = A.dot(x1) - rhs\n",
    "    d1 = -g1 + (g1.dot(g1)/g0.dot(g0))*d0\n",
    "\n",
    "    x0 = x1\n",
    "    g0 = g1\n",
    "    d0 = d1\n",
    "    k+=1"
   ]
  },
  {
   "cell_type": "code",
   "execution_count": 8,
   "metadata": {
    "colab": {
     "base_uri": "https://localhost:8080/"
    },
    "id": "KWIY7v7E7OUp",
    "outputId": "1e387fee-3d70-428a-f2b7-c18396f88cef"
   },
   "outputs": [
    {
     "name": "stdout",
     "output_type": "stream",
     "text": [
      "количество итераций:  173\n",
      "проверка : [1.         1.00000005 0.99999961 ... 1.00000005 1.         1.0000167 ]\n"
     ]
    }
   ],
   "source": [
    "print(\"количество итераций: \", k)\n",
    "print(\"проверка :\", A.dot(x1))"
   ]
  },
  {
   "cell_type": "markdown",
   "metadata": {
    "id": "lR7B3p0aBdeY"
   },
   "source": [
    "Эксперементально сходится намного быстрее.\n"
   ]
  },
  {
   "cell_type": "markdown",
   "metadata": {
    "id": "SUgqDEK7pVgk"
   },
   "source": [
    "## Задача 2 (15 pts)\n",
    "\n",
    "### Спектральное разбиение графа и обратная итерация\n",
    "\n",
    "\n",
    "Дан связный граф $G$ и соответствующий ему лапласиан $L = D - A$ с собственными значениями  $0=\\lambda_1, \\lambda_2, ..., \\lambda_n$, где $D$ диагональная матрица со степенями вершин на диагонали, а $A$ – матрица смежности.\n",
    "Вектор Фидлера – это собственный вектор, соответствующий собственному значению $\\lambda_2$ матрицы $L$. Этот вектор может быть использован для разбиения графа: положительные значения соответствуют одной части графа, отрицательные – другой."
   ]
  },
  {
   "cell_type": "markdown",
   "metadata": {
    "id": "3H2MajWypVgl"
   },
   "source": [
    "### Метод обратной итерации\n",
    "\n",
    "Для поиска вектора Фидлера мы будем использовать метод Релея.\n",
    "\n",
    "* (5 pts) Выпишите матрицу ортопроектора на подпространство ортогональное собственному вектору матрице $L$, соответствующему собственному значению $0$ и докажите (аналитически), что это действительно ортопроектор.\n",
    " \n",
    "* (5 pts) Реализуйте функцию спектрального разделения графа ```partition```:"
   ]
  },
  {
   "cell_type": "markdown",
   "metadata": {
    "id": "Q8DV595-ZxhI"
   },
   "source": [
    "1) $L_{ii}$ = степень вершины $i$, $L_{ij}=−1$,если $i≠j$ и существует ребро, и $0$ иначе. Следовательно строчные суммы в матрице $L$ равны нулю, поэтому существует собственное значение $0$, которое даёт собственный вектор из всех 1.\n",
    "\n",
    "Следовательно $\\vec{x}={(1,1,...,1)}^T$ - это собственный вектор, который соответствует собственному значению $0$. Подпространство ортогональное к данному вектору является гиперплоскость, которая задается уравнением $\\sum_{i=1}^{n}z_i=0$. Вычислим ортогональную проекцию вектора $\\vec{a}$ на данную гиперплоскость:\n",
    "\n",
    "$$ Pr(\\vec{a}) = \\vec{a} -  \\frac{(\\vec{a}*\\vec{n})}{|\\vec{n}|*|\\vec{n}|}\\vec{n} => Pr(\\vec{a}) = a - \\frac{a^T*I}{I^T*I}I = a - \\frac{II^Ta}{n} = (I_n - \\frac{II^T}{n})a$$\n",
    "\n",
    " Следовательно матрица ортопроектора равна: $A = (I_n - \\frac{II^T}{n})$, где $I_n$ - это единичная матрица ранга n, а $I$ - единичный вектор.\n",
    "\n",
    " Аналитическая проверка: $I^TPr(\\vec{a})=(I^T - \\frac{I^TII^T}{n})a = (I^T-I^T)a=0$"
   ]
  },
  {
   "cell_type": "code",
   "execution_count": 9,
   "metadata": {
    "id": "SQuL_hPB1Hhx"
   },
   "outputs": [],
   "source": [
    "from scipy.sparse.linalg import spsolve\n",
    "from scipy.sparse import csr_matrix\n",
    "from scipy.sparse import identity\n",
    "from scipy.sparse import diags\n",
    "import numpy as np\n",
    "from numpy import linalg\n",
    "from scipy import sparse"
   ]
  },
  {
   "cell_type": "code",
   "execution_count": 10,
   "metadata": {
    "id": "1dZrLQuJpVgl"
   },
   "outputs": [],
   "source": [
    "# INPUT:\n",
    "# A - adjacency matrix (scipy.sparse.csr_matrix)\n",
    "# num_iter_fix - number of iterations with fixed shift (float)\n",
    "# shift - (float number)\n",
    "# num_iter_adapt - number of iterations with adaptive shift (int) -- Rayleigh quotient iteration steps\n",
    "# x0 - initial guess (1D numpy.ndarray)\n",
    "# OUTPUT:\n",
    "# x - normalized Fiedler vector (1D numpy.ndarray)\n",
    "# eigs - eigenvalue estimations at each step (1D numpy.ndarray)\n",
    "# eps - relative tolerance (float)\n",
    "def partition(A, shift, num_iter_fix, num_iter_adapt, x0, eps):\n",
    "    A = A.toarray() \n",
    "    n = A.shape[0]\n",
    "    D = csr_matrix((np.array(A.sum(axis=1)), (range(n), range(n))), shape=(n, n)) \n",
    "    L = A + D\n",
    "    x = x0\n",
    "    #начальное приближение:  \n",
    "    #I = np.ones(n)\n",
    "    #x = x0 - (x0.dot(I)/I.dot(I))*x0\n",
    "\n",
    "    for i in range(n):\n",
    "      for j in range(n):\n",
    "        if(i != j):\n",
    "          if(L[i,j] != 0):\n",
    "            L[i,j] =-1\n",
    "    L = sparse.csr_matrix(L)\n",
    "    eigs = []\n",
    "\n",
    "    for i in range(0, int(num_iter_fix)):\n",
    "       shift = 1.0\n",
    "       y = spsolve(L - shift * np.identity(n), x)\n",
    "       x = y / linalg.norm(y)\n",
    "       eigval = (L @ x) @ x / linalg.norm(x) ** 2\n",
    "       eigs.append(eigval)\n",
    "       if (i!=0):\n",
    "          if (linalg.norm(eigs[i]-eigs[i-1])/linalg.norm(eigs[i])<=eps):\n",
    "            eps = linalg.norm(eigs[i]-eigs[i-1])/linalg.norm(eigs[i])\n",
    "            return x, eigs, eps\n",
    "\n",
    "\n",
    "    for i in range(0, num_iter_adapt):\n",
    "       shift = (L @ x) @ x/(linalg.norm(x) ** 2)\n",
    "       y = spsolve(L - shift * np.identity(n), x)\n",
    "       x = y / linalg.norm(y)\n",
    "       eigval = (L @ x) @ x / linalg.norm(x) ** 2\n",
    "       eigs.append(eigval)\n",
    "       if (i!=0):\n",
    "          if (linalg.norm(eigs[i+num_iter_fix]-eigs[i+num_iter_fix-1])/linalg.norm(eigs[i+num_iter_fix])<=eps):\n",
    "            eps = linalg.norm(eigs[i+num_iter_fix]-eigs[i+num_iter_fix-1])/linalg.norm(eigs[i+num_iter_fix])\n",
    "            break;\n",
    "\n",
    "\n",
    "    return x, eigs, eps "
   ]
  },
  {
   "cell_type": "markdown",
   "metadata": {
    "id": "nFjt3eyhpVgl"
   },
   "source": [
    "Алгоритм должен останавливаться спустя `num_iter_fix + num_iter_adapt` итераций или если выполнено следующее соотношение\n",
    "\n",
    "$$ \\boxed{\\|\\lambda_k - \\lambda_{k-1}\\|_2 / \\|\\lambda_k\\|_2 \\leq \\varepsilon} \\text{ на некотором шаге } k.$$\n",
    "\n",
    "Не забудьте использовать ортогональную проекцию из задачи выше в итерационном процессе, чтобы получить верный собственный вектор.\n",
    "Также хорошей идеей могло быть использование ```shift=0``` до запуска адаптивного режима. Однако это невозможно в силу вырождннности матрицы $L$, а разреженное разложенное в ```scipy``` не работет в этом случае. Поэтому вместо нулевого сдвига предлагается использовать некоторое малое значение.\n",
    "\n",
    "* (3 pts) Сгенерируйте случайный `lollipop_graph`, используя библиотеку `networkx`, и найдите его разбиение. [Нарисуйте](https://networkx.github.io/documentation/networkx-1.9/examples/drawing/labels_and_colors.html) этот граф с вершинами, окрашенными в соответствии с разбиением.\n",
    "\n",
    "* (2 pts) Запустите метод со случайного начального приближение ```x0```, установите ```num_iter_fix=0``` и объясните, почему метод может сойтись к неверному собственному значению?"
   ]
  },
  {
   "cell_type": "markdown",
   "metadata": {
    "id": "hc0_WigrEOJh"
   },
   "source": [
    "1):"
   ]
  },
  {
   "cell_type": "code",
   "execution_count": 11,
   "metadata": {
    "id": "b1nhP7SrA9iK"
   },
   "outputs": [],
   "source": [
    "#Сгенерируем матрицу:\n",
    "import networkx as nx\n",
    "\n",
    "D = nx.lollipop_graph(10, 3)\n",
    "A = nx.convert_matrix.to_numpy_matrix(D)\n"
   ]
  },
  {
   "cell_type": "code",
   "execution_count": 12,
   "metadata": {
    "colab": {
     "base_uri": "https://localhost:8080/",
     "height": 248
    },
    "id": "bnVS9xXs9PO0",
    "outputId": "fb7ae34e-9f05-4ef9-acd8-5001cd308059"
   },
   "outputs": [
    {
     "data": {
      "image/png": "[encoded data removed]",
      "text/plain": [
       "<Figure size 432x288 with 1 Axes>"
      ]
     },
     "metadata": {},
     "output_type": "display_data"
    }
   ],
   "source": [
    "nx.draw_networkx(D, node_color=\"red\") #Draw the graph"
   ]
  },
  {
   "cell_type": "code",
   "execution_count": 13,
   "metadata": {
    "colab": {
     "base_uri": "https://localhost:8080/"
    },
    "id": "iDD4utVfBbHt",
    "outputId": "68381312-90c3-4fe3-f66d-7b11607f8496"
   },
   "outputs": [
    {
     "name": "stdout",
     "output_type": "stream",
     "text": [
      "[1.9916222626059699, 1.4455228914768412, 1.4974588635887696, 1.522401583273907, 1.5301847810886402, 1.5324684243936546, 1.5334185349516407, 1.5334185353270726]\n"
     ]
    },
    {
     "name": "stderr",
     "output_type": "stream",
     "text": [
      "C:\\Users\\lasic\\Anaconda3\\envs\\coursera_ds\\lib\\site-packages\\scipy\\sparse\\linalg\\dsolve\\linsolve.py:138: SparseEfficiencyWarning: spsolve requires A be CSC or CSR matrix format\n",
      "  SparseEfficiencyWarning)\n",
      "C:\\Users\\lasic\\Anaconda3\\envs\\coursera_ds\\lib\\site-packages\\scipy\\sparse\\linalg\\dsolve\\linsolve.py:138: SparseEfficiencyWarning: spsolve requires A be CSC or CSR matrix format\n",
      "  SparseEfficiencyWarning)\n",
      "C:\\Users\\lasic\\Anaconda3\\envs\\coursera_ds\\lib\\site-packages\\scipy\\sparse\\linalg\\dsolve\\linsolve.py:138: SparseEfficiencyWarning: spsolve requires A be CSC or CSR matrix format\n",
      "  SparseEfficiencyWarning)\n",
      "C:\\Users\\lasic\\Anaconda3\\envs\\coursera_ds\\lib\\site-packages\\scipy\\sparse\\linalg\\dsolve\\linsolve.py:138: SparseEfficiencyWarning: spsolve requires A be CSC or CSR matrix format\n",
      "  SparseEfficiencyWarning)\n",
      "C:\\Users\\lasic\\Anaconda3\\envs\\coursera_ds\\lib\\site-packages\\scipy\\sparse\\linalg\\dsolve\\linsolve.py:138: SparseEfficiencyWarning: spsolve requires A be CSC or CSR matrix format\n",
      "  SparseEfficiencyWarning)\n",
      "C:\\Users\\lasic\\Anaconda3\\envs\\coursera_ds\\lib\\site-packages\\scipy\\sparse\\linalg\\dsolve\\linsolve.py:138: SparseEfficiencyWarning: spsolve requires A be CSC or CSR matrix format\n",
      "  SparseEfficiencyWarning)\n",
      "C:\\Users\\lasic\\Anaconda3\\envs\\coursera_ds\\lib\\site-packages\\scipy\\sparse\\linalg\\dsolve\\linsolve.py:138: SparseEfficiencyWarning: spsolve requires A be CSC or CSR matrix format\n",
      "  SparseEfficiencyWarning)\n",
      "C:\\Users\\lasic\\Anaconda3\\envs\\coursera_ds\\lib\\site-packages\\scipy\\sparse\\linalg\\dsolve\\linsolve.py:138: SparseEfficiencyWarning: spsolve requires A be CSC or CSR matrix format\n",
      "  SparseEfficiencyWarning)\n"
     ]
    }
   ],
   "source": [
    "import scipy.sparse.linalg as spsl\n",
    "from scipy.sparse.linalg import inv\n",
    "sA = sparse.csr_matrix(A)\n",
    "x = np.ones(sA.shape[0])\n",
    "\n",
    "for i in range(len(x)):\n",
    "  x[i]+= (10*np.random.random()-5)\n",
    "  \n",
    "#начальное приближение из пункта 1:   \n",
    "I = np.ones(len(x))\n",
    "x0 = x - (x.dot(I)/I.dot(I))*x\n",
    "\n",
    "x, eigs, _ = partition(sA, 0, 6, 10, x0, 0.00001)\n",
    "print(eigs)"
   ]
  },
  {
   "cell_type": "markdown",
   "metadata": {
    "id": "iLKT47lkH9X5"
   },
   "source": [
    "Результат работы алгоритма:"
   ]
  },
  {
   "cell_type": "code",
   "execution_count": 14,
   "metadata": {
    "colab": {
     "base_uri": "https://localhost:8080/",
     "height": 248
    },
    "id": "tfxnS_8X9l7F",
    "outputId": "b976b639-88ec-4688-aa30-c800a15d207f"
   },
   "outputs": [
    {
     "data": {
      "image/png": "[encoded data removed]",
      "text/plain": [
       "<Figure size 432x288 with 1 Axes>"
      ]
     },
     "metadata": {},
     "output_type": "display_data"
    }
   ],
   "source": [
    "nx.draw_networkx(D, node_color=np.sign(x))"
   ]
  },
  {
   "cell_type": "markdown",
   "metadata": {
    "id": "WTgb_je9H4ta"
   },
   "source": [
    "2) Запустим метод со случайным начальным приближением x0, установим num_iter_fix=0:"
   ]
  },
  {
   "cell_type": "code",
   "execution_count": 15,
   "metadata": {
    "colab": {
     "base_uri": "https://localhost:8080/"
    },
    "id": "at6jjHXaH4EH",
    "outputId": "0dc6cb87-25f1-4cb6-9e3c-85a1832c6095"
   },
   "outputs": [
    {
     "name": "stdout",
     "output_type": "stream",
     "text": [
      "[0.4153615618963009, 0.05212829418174338, 0.001305208561588218, 3.8059284224066275e-08, 5.234657510626112e-16, -6.46632976094008e-16, -3.6950455776800485e-16, 3.079204648066715e-16, 7.698011620166789e-16, -1.5396023240333505e-16]\n"
     ]
    },
    {
     "name": "stderr",
     "output_type": "stream",
     "text": [
      "C:\\Users\\lasic\\Anaconda3\\envs\\coursera_ds\\lib\\site-packages\\scipy\\sparse\\linalg\\dsolve\\linsolve.py:138: SparseEfficiencyWarning: spsolve requires A be CSC or CSR matrix format\n",
      "  SparseEfficiencyWarning)\n",
      "C:\\Users\\lasic\\Anaconda3\\envs\\coursera_ds\\lib\\site-packages\\scipy\\sparse\\linalg\\dsolve\\linsolve.py:138: SparseEfficiencyWarning: spsolve requires A be CSC or CSR matrix format\n",
      "  SparseEfficiencyWarning)\n",
      "C:\\Users\\lasic\\Anaconda3\\envs\\coursera_ds\\lib\\site-packages\\scipy\\sparse\\linalg\\dsolve\\linsolve.py:138: SparseEfficiencyWarning: spsolve requires A be CSC or CSR matrix format\n",
      "  SparseEfficiencyWarning)\n",
      "C:\\Users\\lasic\\Anaconda3\\envs\\coursera_ds\\lib\\site-packages\\scipy\\sparse\\linalg\\dsolve\\linsolve.py:138: SparseEfficiencyWarning: spsolve requires A be CSC or CSR matrix format\n",
      "  SparseEfficiencyWarning)\n",
      "C:\\Users\\lasic\\Anaconda3\\envs\\coursera_ds\\lib\\site-packages\\scipy\\sparse\\linalg\\dsolve\\linsolve.py:138: SparseEfficiencyWarning: spsolve requires A be CSC or CSR matrix format\n",
      "  SparseEfficiencyWarning)\n",
      "C:\\Users\\lasic\\Anaconda3\\envs\\coursera_ds\\lib\\site-packages\\scipy\\sparse\\linalg\\dsolve\\linsolve.py:138: SparseEfficiencyWarning: spsolve requires A be CSC or CSR matrix format\n",
      "  SparseEfficiencyWarning)\n",
      "C:\\Users\\lasic\\Anaconda3\\envs\\coursera_ds\\lib\\site-packages\\scipy\\sparse\\linalg\\dsolve\\linsolve.py:138: SparseEfficiencyWarning: spsolve requires A be CSC or CSR matrix format\n",
      "  SparseEfficiencyWarning)\n",
      "C:\\Users\\lasic\\Anaconda3\\envs\\coursera_ds\\lib\\site-packages\\scipy\\sparse\\linalg\\dsolve\\linsolve.py:138: SparseEfficiencyWarning: spsolve requires A be CSC or CSR matrix format\n",
      "  SparseEfficiencyWarning)\n",
      "C:\\Users\\lasic\\Anaconda3\\envs\\coursera_ds\\lib\\site-packages\\scipy\\sparse\\linalg\\dsolve\\linsolve.py:138: SparseEfficiencyWarning: spsolve requires A be CSC or CSR matrix format\n",
      "  SparseEfficiencyWarning)\n",
      "C:\\Users\\lasic\\Anaconda3\\envs\\coursera_ds\\lib\\site-packages\\scipy\\sparse\\linalg\\dsolve\\linsolve.py:138: SparseEfficiencyWarning: spsolve requires A be CSC or CSR matrix format\n",
      "  SparseEfficiencyWarning)\n"
     ]
    }
   ],
   "source": [
    "import scipy.sparse.linalg as spsl\n",
    "from scipy.sparse.linalg import inv\n",
    "sA = sparse.csr_matrix(A)\n",
    "x = np.zeros(sA.shape[0])\n",
    "\n",
    "#начальное приближение из пункта 1:  \n",
    "for i in range(len(x)):\n",
    "  x[i]= np.random.random()\n",
    " \n",
    "I = np.ones(len(x))\n",
    "x0 = x - (x.dot(I)/I.dot(I))*x\n",
    "\n",
    "x, eigs, _ = partition(sA, 0, 0, 10, x0, 0.00001)\n",
    "print(eigs)"
   ]
  },
  {
   "cell_type": "code",
   "execution_count": 16,
   "metadata": {
    "colab": {
     "base_uri": "https://localhost:8080/",
     "height": 248
    },
    "id": "rnutq2YFKdNJ",
    "outputId": "f29275aa-6917-4cd2-ab05-a45ebd449b48"
   },
   "outputs": [
    {
     "data": {
      "image/png": "[encoded data removed]",
      "text/plain": [
       "<Figure size 432x288 with 1 Axes>"
      ]
     },
     "metadata": {},
     "output_type": "display_data"
    }
   ],
   "source": [
    "nx.draw_networkx(D, node_color=np.sign(x))"
   ]
  },
  {
   "cell_type": "markdown",
   "metadata": {
    "id": "lcdfAT4BKh89"
   },
   "source": [
    "Если мы не используем в качестве начального приближения проекцию вектора на подпространство ортогональное собственному вектору матрице  L , соответствующему собственному значению  0, то partition() находит собственное значение равное 0 и собственный вектор соответствующий данному значению, а нам нужен именно 2-ой минимум для решения задачи."
   ]
  },
  {
   "cell_type": "markdown",
   "metadata": {
    "id": "ru70NGUlOGIy"
   },
   "source": [
    "## Задача 3 (25 pts)\n",
    "\n",
    "## PageRank для DBLP\n",
    "\n",
    "\n",
    "#### Введение дэмпфирующего фактора\n",
    "\n",
    "* (5 pts) Напишите функцию ```pagerank_matrix(G)```, которая из поданной на вход матрицы смежности $G$ (в плотном или разреженном форматах) создаёт и возвращает матрицу PageRank'a $A$."
   ]
  },
  {
   "cell_type": "code",
   "execution_count": 17,
   "metadata": {
    "colab": {
     "base_uri": "https://localhost:8080/",
     "height": 248
    },
    "id": "WQhNTIz8F8wC",
    "outputId": "f9d2e665-e404-4605-f6fe-18928ce6c179"
   },
   "outputs": [
    {
     "data": {
      "image/png": "[encoded data removed]",
      "text/plain": [
       "<Figure size 432x288 with 1 Axes>"
      ]
     },
     "metadata": {},
     "output_type": "display_data"
    }
   ],
   "source": [
    "import numpy as np\n",
    "import networkx as nx\n",
    "#генерация случайного графа:\n",
    "def create_graph(n):\n",
    "  A = np.random.randint(0, 2, size=(n, n)).astype(\"float\")\n",
    "  for i in range(len(A)):\n",
    "    A[i,i]=0\n",
    "  D = nx.Graph(A) \n",
    "  return A, D    \n",
    "\n",
    "A, D = create_graph(6)\n",
    "nx.draw_networkx(D)"
   ]
  },
  {
   "cell_type": "code",
   "execution_count": 18,
   "metadata": {
    "id": "JxJwNZwHlaEr"
   },
   "outputs": [],
   "source": [
    "import copy\n",
    "# INPUT:  G - np.ndarray or sparse matrix\n",
    "# OUTPUT: A - np.ndarray (of size G.shape) or sparse matrix\n",
    "def pagerank_matrix(G):\n",
    "    # enter your code here\n",
    "    rows, cols = G.nonzero()\n",
    "    P = copy.copy(G)\n",
    "    norm = np.zeros(G.shape[0])\n",
    "    \n",
    "    for i in range(len(cols)):\n",
    "      norm[cols[i]]+=P[rows[i], cols[i]]\n",
    "    for i in range(len(cols)):\n",
    "      P[rows[i], cols[i]] = P[rows[i], cols[i]] / norm[cols[i]]\n",
    "\n",
    "    return P"
   ]
  },
  {
   "cell_type": "code",
   "execution_count": 19,
   "metadata": {
    "colab": {
     "base_uri": "https://localhost:8080/"
    },
    "id": "UOYpGX1bZ-nK",
    "outputId": "83f85b2f-207f-404a-b74e-50132b727693"
   },
   "outputs": [
    {
     "name": "stdout",
     "output_type": "stream",
     "text": [
      "[[0. 1. 1. 0. 0. 1.]\n",
      " [0. 0. 1. 1. 0. 1.]\n",
      " [0. 1. 0. 0. 1. 1.]\n",
      " [0. 0. 0. 0. 1. 1.]\n",
      " [0. 1. 1. 1. 0. 0.]\n",
      " [1. 1. 1. 1. 0. 0.]]\n",
      "[[0.         0.25       0.25       0.         0.         0.25      ]\n",
      " [0.         0.         0.25       0.33333333 0.         0.25      ]\n",
      " [0.         0.25       0.         0.         0.5        0.25      ]\n",
      " [0.         0.         0.         0.         0.5        0.25      ]\n",
      " [0.         0.25       0.25       0.33333333 0.         0.        ]\n",
      " [1.         0.25       0.25       0.33333333 0.         0.        ]]\n"
     ]
    }
   ],
   "source": [
    "print(A)\n",
    "answ = pagerank_matrix(A)\n",
    "print(answ)\n"
   ]
  },
  {
   "cell_type": "markdown",
   "metadata": {
    "id": "CpwE8O4JpVgm"
   },
   "source": [
    "* (5 pts) Реализуйте степенной метод для заданной матрицы $A$, начального вектора $x_0$ и числа итераций```num_iter``` в соответствии с прототипом ниже. Функция возвращает оценку собственного вектора, собственного значения и нормы невязки при сходимости. Проверьте, что ваша реализация сходится для матрицы $\\begin{bmatrix} 2 & -1 \\\\ -1 & 2 \\end{bmatrix}$."
   ]
  },
  {
   "cell_type": "code",
   "execution_count": 20,
   "metadata": {
    "id": "ByMxcfHQpVgm"
   },
   "outputs": [],
   "source": [
    "# INPUT:  A - np.ndarray (2D), x0 - np.ndarray (1D), num_iter - integer (positive)\n",
    "# OUTPUT: x - np.ndarray (of size x0), l - float, res - np.ndarray (of size num_iter + 1 [include initial guess])\n",
    "def power_method(A, x0, num_iter): # 5 pts\n",
    "    # enter your code here\n",
    "    res = []\n",
    "    x = x0\n",
    "    for i in range(0, num_iter):\n",
    "       x = A @ x0 /(linalg.norm(A@x0))\n",
    "       x0 = x\n",
    "       m = x @ (A @ x)/(linalg.norm(x)) \n",
    "       res = np.append(res, m)\n",
    "    l = linalg.norm(A@x - x *((A @ x) @ x)/(linalg.norm(x) ** 2))\n",
    "    return x, l, res"
   ]
  },
  {
   "cell_type": "code",
   "execution_count": 21,
   "metadata": {
    "colab": {
     "base_uri": "https://localhost:8080/"
    },
    "id": "rthdixhSH0Cd",
    "outputId": "96a31d74-2bc5-4566-c7ba-9b2acbb2e4a0"
   },
   "outputs": [
    {
     "name": "stdout",
     "output_type": "stream",
     "text": [
      "собственное значение:  3.0\n",
      "невязка:  9.505716567061659e-11\n"
     ]
    }
   ],
   "source": [
    "A = np.array([[2, -1], [-1, 2]])\n",
    "\n",
    "a = np.ones(A.shape[0])\n",
    "for i in range(len(a)):\n",
    "  a[i]+= (10*np.random.random()-5)\n",
    "\n",
    "x, l, res = power_method(A, a, 20)\n",
    "\n",
    "print(\"собственное значение: \", res[-1])\n",
    "print(\"невязка: \", l)\n"
   ]
  },
  {
   "cell_type": "markdown",
   "metadata": {
    "id": "kSgxi5EJpVgm"
   },
   "source": [
    "Для избежания проблем со сходимостью степенного метода, обсуждённых на семинаре, можно ввести дэмпфирующий фактор и преобразовать матрицу PageRank'a следующим образом:\n",
    "\n",
    "$$\n",
    "A_d = dA + \\frac{1-d}{N} \\begin{pmatrix} 1 & \\dots & 1 \\\\ \\vdots & & \\vdots \\\\ 1 & \\dots & 1 \\end{pmatrix},\n",
    "$$\n",
    "\n",
    "где $d$ малый параметр из отрезка $[0,1]$ (обычно $d=0.85$), который называется **демпфирующим фактором**, $A$ размера $N\\times N$. После такого преобразования максимальное собственное значение матрицы $A_d$ обладает кратностью равной 1. \n",
    "\n",
    "Именно это [предложили](http://ilpubs.stanford.edu:8090/422/1/1999-66.pdf) сделать Ларри Пейдж и Сергей Брин для получения своего алгоритма ранжирвания веб-страниц.\n",
    "\n",
    "\n",
    "* (4 pts) Реализуйте функцию быстрого умножения матрицы $A_d$ на вектор в соответствии с прототипом ниже ```pagerank_matvec(A, d, x)```. На вход функция принимает  матрицу PageRank'a $A$ (в разреженном формате, например ```csr_matrix```), демпфирующий фактор $d$ и начальный вектор $x$, а возвращает $A_dx$. "
   ]
  },
  {
   "cell_type": "code",
   "execution_count": 22,
   "metadata": {
    "id": "4P2O5VtUpVgn"
   },
   "outputs": [],
   "source": [
    "# INPUT:  A - np.ndarray (2D), d - float (from 0.0 to 1.0), x - np.ndarray (1D, size of A.shape[0/1])\n",
    "# OUTPUT: y - np.ndarray (1D, size of x)\n",
    "def pagerank_matvec(A, d, x): # 2 pts\n",
    "    # enter your code here\n",
    "    n = A.shape[0]\n",
    "    A = d * A   \n",
    "    rows, cols = A.nonzero()\n",
    "    \n",
    "    element = sum(x)*(1-d)/n\n",
    "    y_1 = np.full(n, element) \n",
    "    \n",
    "    y = np.zeros(n)\n",
    "    for i in range(len(rows)):\n",
    "      y[rows[i]] += A[rows[i], cols[i]] * x[cols[i]]\n",
    "\n",
    "    return y + y_1"
   ]
  },
  {
   "cell_type": "code",
   "execution_count": 23,
   "metadata": {
    "colab": {
     "base_uri": "https://localhost:8080/"
    },
    "id": "jkREf_W7Fh9g",
    "outputId": "27fa5c76-e7fe-4e65-b983-f39694c4ffde"
   },
   "outputs": [
    {
     "name": "stdout",
     "output_type": "stream",
     "text": [
      "[1. 1.]\n"
     ]
    }
   ],
   "source": [
    "x = np.ones(A.shape[0])\n",
    "print(pagerank_matvec(A, 0.85, x))\n",
    "d = 0.85 \n",
    "n = A.shape[0]"
   ]
  },
  {
   "cell_type": "markdown",
   "metadata": {
    "id": "pabv92FCpVgn"
   },
   "source": [
    "\n",
    "* (2 pts) Сгенерируйте случайную матрицу смежности $1000 \\times 1000$ (если помещается в память, то увеличьте размер до $10000 \\times 10000$) со 100 ненулевыми элементами и сравните время вычисления произведения матрицы и случайного вектора с помощью ```pagerank_matvec``` и явным вычислением $A_dx$.\n",
    "    \n",
    "Загрузите данные [отсюда](https://goo.gl/oZVxEa), разархивируйте и поместите файлы `dblp_authors.npz`  и `dblp_graph.npz` в папку рядом с этим ноутбуком. Каждое значение (имя автора) из `dblp_authors.npz` соответствует строке/столбцу в матрице из  `dblp_graph.npz`. Значения в строке `i` и столбце `j` матрицы `dblp_graph.npz` соответствуют числу раз, которое автор `i` цитировал статьи автора `j`. Давайте теперь найдём наиболее влиятельных авторов по величине Pagerank'a на основе данных DBLP.\n",
    "\n",
    "* (5 pts) Загрузите взвешенную матрицу смежности и список авторов с помощью функции ```load_dblp(...)```. Выведите её плотность, то есть отношение числа ненулевых элементов к общему числу элементов. Найдите top-10 наиболее цитируемых авторов по значениям элементов этой матрицы. Далее сделайте все элементы равными 1 для простоты. Получите матрицу Pagerank'a из матрицы смежности и проверьте её стохастичность (сумма элементов по строкам/столбцам равна 1).\n",
    " \n",
    "* (1 pts) Для того чтобы передать функцию ```pagerank_matvec``` в функцию ```power_method``` для быстрого вычисления матрично-векторного произведения $A_dx$, вы можете сделать ```LinearOperator```: \n",
    "```python\n",
    "L = scipy.sparse.linalg.LinearOperator(A.shape, matvec=lambda x, A=A, d=d: pagerank_matvec(A, d, x))\n",
    "```\n",
    "Вызов ```L@x``` или ```L.dot(x)``` будет реализован путём вызова функции ```pagerank_matvec(A, d, x)```, таким образом, вы можете передать $L$ вместо матрицы $A$ в функцию ```power_method``` напрямую.\n",
    "\n",
    "\n",
    "* (2 pts) Запустите степенной метод начиная с вектора из всех 1 и нарисуйте норму невязок $\\|A_dx_k - \\lambda_k x_k\\|_2$  как функцию от $k$ для $d=0.85$.\n",
    "\n",
    "\n",
    "* (1 pts) Выведите имена top-10 авторов по величине PageRank'a на основании графа DBLP с $d=0.85$. Прокомментируйте результат и сарвните его со списком наиболее цитируемых авторов."
   ]
  },
  {
   "cell_type": "markdown",
   "metadata": {
    "id": "SaGhyOhpLM4m"
   },
   "source": [
    "1) Сгенерируйте случайную матрицу смежности  1000×1000:"
   ]
  },
  {
   "cell_type": "code",
   "execution_count": 24,
   "metadata": {
    "id": "M_FJfepnJDuT"
   },
   "outputs": [],
   "source": [
    "#сгенерируем матрицу:\n",
    "def random_generation(n):\n",
    "  M = np.zeros((n, n))\n",
    "  ind = 0\n",
    "  while(ind!=100):\n",
    "    i = np.random.randint(0, n-1, 1)[0]\n",
    "    j = np.random.randint(0, n-1, 1)[0]\n",
    "    if(i!=j and M[i, j]==0):\n",
    "      M[i, j]=1\n",
    "      ind+=1\n",
    "  return M  \n",
    "\n",
    "def explicit_mul(A, d, x):\n",
    "  n = A.shape[0]\n",
    "  A = d*A + np.ones((n,n))*(1-d)/n\n",
    "  answ = np.zeros(n)\n",
    "  for i in range(n):\n",
    "    for j in range(n):\n",
    "      answ[i] += A[i,j]*x[j]\n",
    "  return answ"
   ]
  },
  {
   "cell_type": "code",
   "execution_count": 25,
   "metadata": {
    "colab": {
     "base_uri": "https://localhost:8080/"
    },
    "id": "bBinUeG6JpTt",
    "outputId": "d46894a6-9523-4b3c-b91c-4a8dfb290b37"
   },
   "outputs": [
    {
     "name": "stdout",
     "output_type": "stream",
     "text": [
      "100.0\n"
     ]
    }
   ],
   "source": [
    "#Проверим количество ненулевых элементов:\n",
    "A = random_generation(10000)\n",
    "rows, cols = A.nonzero()\n",
    "print(sum(A[rows, cols]))"
   ]
  },
  {
   "cell_type": "code",
   "execution_count": null,
   "metadata": {
    "colab": {
     "base_uri": "https://localhost:8080/"
    },
    "id": "WvNDDCRsLVtA",
    "outputId": "46807488-cb8b-4db3-c706-477868d51196"
   },
   "outputs": [
    {
     "name": "stdout",
     "output_type": "stream",
     "text": [
      "Быстрое умножение:  1.0730693340301514\n",
      "Наивное умножение:  71.20149803161621\n"
     ]
    }
   ],
   "source": [
    "#Сравним время:\n",
    "import time\n",
    "\n",
    "x = np.ones(A.shape[0])\n",
    "\n",
    "start_time = time.time()\n",
    "answ = pagerank_matvec(A, 0.85, x)\n",
    "end_time = time.time()\n",
    "print(\"Быстрое умножение: \", end_time - start_time)\n",
    "\n",
    "start_time = time.time()\n",
    "answ = explicit_mul(A, 0.85, x)\n",
    "end_time = time.time()\n",
    "print(\"Наивное умножение: \", end_time - start_time)\n"
   ]
  },
  {
   "cell_type": "markdown",
   "metadata": {
    "id": "KCNtbDAYO7Zh"
   },
   "source": [
    "Разница ощутима."
   ]
  },
  {
   "cell_type": "markdown",
   "metadata": {
    "id": "83c_pdZxO_oO"
   },
   "source": [
    "2)"
   ]
  },
  {
   "cell_type": "code",
   "execution_count": 26,
   "metadata": {
    "id": "MvLbyKPuGS6r"
   },
   "outputs": [],
   "source": [
    "from scipy.sparse import load_npz\n",
    "import numpy as np\n",
    "def load_dblp(path_auth, path_graph):\n",
    "    G = load_npz(path_graph).astype(float)\n",
    "    with np.load(path_auth) as data: authors = data['authors']\n",
    "    return G, authors\n",
    "G, authors_ = load_dblp('dblp_authors.npz', 'dblp_graph.npz')"
   ]
  },
  {
   "cell_type": "code",
   "execution_count": 54,
   "metadata": {},
   "outputs": [],
   "source": [
    "#из-за того, что считается очень долго я понизил размерность\n",
    "G = G[:10000, :10000]\n",
    "authors_ = authors_[:10000] "
   ]
  },
  {
   "cell_type": "code",
   "execution_count": 55,
   "metadata": {},
   "outputs": [
    {
     "data": {
      "text/plain": [
       "(1000, 1000)"
      ]
     },
     "execution_count": 55,
     "metadata": {},
     "output_type": "execute_result"
    }
   ],
   "source": [
    "G.shape"
   ]
  },
  {
   "cell_type": "code",
   "execution_count": 56,
   "metadata": {
    "id": "N16TuG1qa0Xh"
   },
   "outputs": [],
   "source": [
    "rows, cols = G.nonzero()"
   ]
  },
  {
   "cell_type": "code",
   "execution_count": 57,
   "metadata": {
    "colab": {
     "base_uri": "https://localhost:8080/"
    },
    "id": "bkmTseMea0lB",
    "outputId": "8709c97f-c57d-4021-df4a-629c2d97dc1b"
   },
   "outputs": [
    {
     "name": "stdout",
     "output_type": "stream",
     "text": [
      "Плотность:  0.000159\n"
     ]
    }
   ],
   "source": [
    "#Выведите плотность, то есть отношение числа ненулевых элементов к общему числу элементов:\n",
    "answ = np.zeros(G.shape[0])\n",
    "for i in range(len(cols)):\n",
    "    answ[cols[i]] += G[rows[i], cols[i]]\n",
    "print(\"Плотность: \", len(cols)/(G.shape[0]**2))"
   ]
  },
  {
   "cell_type": "code",
   "execution_count": 58,
   "metadata": {
    "id": "6DBiFhPRcXTD"
   },
   "outputs": [],
   "source": [
    "#найдем топ 10 наиболее цитируемых писателей:\n",
    "import copy\n",
    "top_10 = copy.copy(answ)\n",
    "authors = []\n",
    "maximum = 0\n",
    "for i in range(10):\n",
    "  maximum = max(top_10)\n",
    "  for i in range(len(top_10)):\n",
    "    if(top_10[i]==maximum):\n",
    "      authors.append(i)\n",
    "      top_10[i] = -1\n",
    "      break;"
   ]
  },
  {
   "cell_type": "code",
   "execution_count": 59,
   "metadata": {},
   "outputs": [
    {
     "name": "stdout",
     "output_type": "stream",
     "text": [
      "[2, 26, 29, 36, 46, 47, 48, 54, 58, 65]\n"
     ]
    }
   ],
   "source": [
    "print(authors)"
   ]
  },
  {
   "cell_type": "code",
   "execution_count": 60,
   "metadata": {},
   "outputs": [
    {
     "name": "stdout",
     "output_type": "stream",
     "text": [
      "['(TYPE=name) (SCHEME=Vancouver) Kahn Ce' 'A Aart Blokhuis' 'A Aerts'\n",
      " 'A Ahsan Shabbir' 'A Alejandro Montes Garcia' 'A Aleksandra Kuzmanovska'\n",
      " 'A Alessandro Becciu' 'A Alper Denasi' 'A Ambra Trotto'\n",
      " 'A Andrei Korostelev']\n"
     ]
    }
   ],
   "source": [
    "#топ авторов:\n",
    "print(authors_[authors])"
   ]
  },
  {
   "cell_type": "code",
   "execution_count": 61,
   "metadata": {
    "id": "2-lgrY33ftaN"
   },
   "outputs": [],
   "source": [
    "# заменим значения на 1-цы:\n",
    "New_mat = copy.copy(G)\n",
    "rows, cols = New_mat.nonzero()\n",
    "for i in range(len(cols)):\n",
    "    New_mat[rows[i], cols[i]]= 1"
   ]
  },
  {
   "cell_type": "code",
   "execution_count": 62,
   "metadata": {
    "colab": {
     "base_uri": "https://localhost:8080/"
    },
    "id": "klW8nbHogihg",
    "outputId": "b3328a9d-3d63-410d-fa59-6720c8e5ce4f"
   },
   "outputs": [
    {
     "name": "stdout",
     "output_type": "stream",
     "text": [
      "1.0\n"
     ]
    }
   ],
   "source": [
    "# Получим матрицу Pagerank'a из матрицы смежности и проверем её стохастичность\n",
    "PG = pagerank_matrix(New_mat)\n",
    "rows, cols = PG.nonzero()\n",
    "checker = np.zeros(New_mat.shape[0])\n",
    "for i in range(len(rows)):\n",
    "  checker[cols[i]]+=PG[rows[i], cols[i]]\n",
    "ind = checker.nonzero()\n",
    "#проверка (должно =1)\n",
    "print(sum(checker[ind])/len(ind[0]))"
   ]
  },
  {
   "cell_type": "markdown",
   "metadata": {
    "id": "hfCyZ4n5HPmx"
   },
   "source": [
    "3):"
   ]
  },
  {
   "cell_type": "code",
   "execution_count": 63,
   "metadata": {
    "id": "mCpJT5zhH6r9"
   },
   "outputs": [],
   "source": [
    "import scipy \n",
    "A = copy.copy(PG)\n",
    "L = scipy.sparse.linalg.LinearOperator(A.shape, matvec=lambda x, A=A, d=d: pagerank_matvec(A, d, x))"
   ]
  },
  {
   "cell_type": "markdown",
   "metadata": {
    "id": "w3akBjauKFhb"
   },
   "source": [
    "4):"
   ]
  },
  {
   "cell_type": "code",
   "execution_count": 64,
   "metadata": {
    "id": "uo-w7vrAIVRE"
   },
   "outputs": [],
   "source": [
    "a = np.ones(A.shape[0])\n",
    "discrepancy = []\n",
    "d = 0.85\n",
    "k = np.arange(1, 30)\n",
    "for i in k:\n",
    "  x, l, res = power_method(L, a, i)\n",
    "  discrepancy.append(linalg.norm(L@x - res[-1]*x))  "
   ]
  },
  {
   "cell_type": "code",
   "execution_count": 37,
   "metadata": {
    "colab": {
     "base_uri": "https://localhost:8080/",
     "height": 299
    },
    "id": "XhRynS1dODng",
    "outputId": "dfedeac7-5147-4470-fcdc-0bc70273f64f"
   },
   "outputs": [
    {
     "data": {
      "text/plain": [
       "Text(0, 0.5, 'k')"
      ]
     },
     "execution_count": 37,
     "metadata": {},
     "output_type": "execute_result"
    },
    {
     "data": {
      "image/png": "[encoded data removed]",
      "text/plain": [
       "<Figure size 432x288 with 1 Axes>"
      ]
     },
     "metadata": {
      "needs_background": "light"
     },
     "output_type": "display_data"
    }
   ],
   "source": [
    "import matplotlib.pyplot as plt\n",
    "fig, ax = plt.subplots()\n",
    "\n",
    "ax.plot(k, discrepancy)\n",
    "ax.grid()\n",
    "\n",
    "ax.set_xlabel('Норма невязки')\n",
    "ax.set_ylabel('k')"
   ]
  },
  {
   "cell_type": "markdown",
   "metadata": {
    "id": "Yr-Eg6b5QZJU"
   },
   "source": [
    "5)"
   ]
  },
  {
   "cell_type": "code",
   "execution_count": 65,
   "metadata": {
    "id": "kJq96GxPSJmR"
   },
   "outputs": [],
   "source": [
    "import copy\n",
    "top_10 = copy.copy(x)\n",
    "authors__ = []\n",
    "maximum = 0\n",
    "for i in range(10):\n",
    "  maximum = max(top_10)\n",
    "  for i in range(len(top_10)):\n",
    "    if(top_10[i]==maximum):\n",
    "      authors__.append(i)\n",
    "      top_10[i] = -1\n",
    "      break;"
   ]
  },
  {
   "cell_type": "code",
   "execution_count": 66,
   "metadata": {},
   "outputs": [
    {
     "name": "stdout",
     "output_type": "stream",
     "text": [
      "[2, 26, 29, 36, 46, 47, 48, 54, 58, 65]\n",
      "[536, 507, 442, 718, 2, 26, 29, 36, 46, 47]\n"
     ]
    }
   ],
   "source": [
    "print(authors)\n",
    "print(authors__)"
   ]
  },
  {
   "cell_type": "code",
   "execution_count": 67,
   "metadata": {
    "colab": {
     "base_uri": "https://localhost:8080/"
    },
    "id": "KU_vYetmSgrV",
    "outputId": "33de4688-5ce4-4e82-fb5a-3467cefe1fef"
   },
   "outputs": [
    {
     "name": "stdout",
     "output_type": "stream",
     "text": [
      "['(TYPE=name) (SCHEME=Vancouver) Kahn Ce' 'A Aart Blokhuis' 'A Aerts'\n",
      " 'A Ahsan Shabbir' 'A Alejandro Montes Garcia' 'A Aleksandra Kuzmanovska'\n",
      " 'A Alessandro Becciu' 'A Alper Denasi' 'A Ambra Trotto'\n",
      " 'A Andrei Korostelev']\n",
      "['A R Vafaeinezhad' 'A Peters' 'A Min Tjoa' 'A-Long Jin'\n",
      " '(TYPE=name) (SCHEME=Vancouver) Kahn Ce' 'A Aart Blokhuis' 'A Aerts'\n",
      " 'A Ahsan Shabbir' 'A Alejandro Montes Garcia' 'A Aleksandra Kuzmanovska']\n"
     ]
    }
   ],
   "source": [
    "print(authors_[authors])\n",
    "print(authors_[authors__])"
   ]
  },
  {
   "cell_type": "markdown",
   "metadata": {
    "id": "zqUJe_jvSmJM"
   },
   "source": [
    "Как мы видим значения похожи;"
   ]
  },
  {
   "cell_type": "code",
   "execution_count": null,
   "metadata": {},
   "outputs": [],
   "source": []
  }
 ],
 "metadata": {
  "colab": {
   "collapsed_sections": [],
   "name": "hw2.ipynb",
   "provenance": []
  },
  "kernelspec": {
   "display_name": "Python 3",
   "language": "python",
   "name": "python3"
  },
  "language_info": {
   "codemirror_mode": {
    "name": "ipython",
    "version": 3
   },
   "file_extension": ".py",
   "mimetype": "text/x-python",
   "name": "python",
   "nbconvert_exporter": "python",
   "pygments_lexer": "ipython3",
   "version": "3.6.10"
  }
 },
 "nbformat": 4,
 "nbformat_minor": 1
}
